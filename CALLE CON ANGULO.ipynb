{
 "cells": [
  {
   "cell_type": "code",
   "execution_count": 2,
   "metadata": {
    "scrolled": true
   },
   "outputs": [
    {
     "ename": "ModuleNotFoundError",
     "evalue": "No module named 'numpy'",
     "output_type": "error",
     "traceback": [
      "\u001b[0;31m---------------------------------------------------------------------------\u001b[0m",
      "\u001b[0;31mModuleNotFoundError\u001b[0m                       Traceback (most recent call last)",
      "\u001b[0;32m<ipython-input-2-814bec70740f>\u001b[0m in \u001b[0;36m<module>\u001b[0;34m\u001b[0m\n\u001b[1;32m      1\u001b[0m \u001b[0;31m# #import librarias\u001b[0m\u001b[0;34m\u001b[0m\u001b[0;34m\u001b[0m\u001b[0;34m\u001b[0m\u001b[0m\n\u001b[0;32m----> 2\u001b[0;31m \u001b[0;32mimport\u001b[0m \u001b[0mnumpy\u001b[0m \u001b[0;32mas\u001b[0m \u001b[0mnp\u001b[0m\u001b[0;34m\u001b[0m\u001b[0;34m\u001b[0m\u001b[0m\n\u001b[0m\u001b[1;32m      3\u001b[0m \u001b[0;32mimport\u001b[0m \u001b[0mpandas\u001b[0m \u001b[0;32mas\u001b[0m \u001b[0mpd\u001b[0m\u001b[0;34m\u001b[0m\u001b[0;34m\u001b[0m\u001b[0m\n\u001b[1;32m      4\u001b[0m \u001b[0;32mimport\u001b[0m \u001b[0mmatplotlib\u001b[0m\u001b[0;34m.\u001b[0m\u001b[0mpyplot\u001b[0m \u001b[0;32mas\u001b[0m \u001b[0mplt\u001b[0m\u001b[0;34m\u001b[0m\u001b[0;34m\u001b[0m\u001b[0m\n\u001b[1;32m      5\u001b[0m \u001b[0;32mimport\u001b[0m \u001b[0mmath\u001b[0m\u001b[0;34m\u001b[0m\u001b[0;34m\u001b[0m\u001b[0m\n",
      "\u001b[0;31mModuleNotFoundError\u001b[0m: No module named 'numpy'"
     ]
    }
   ],
   "source": [
    "# #import librarias\n",
    "import numpy as np\n",
    "import pandas as pd\n",
    "import matplotlib.pyplot as plt\n",
    "import math\n",
    "import utm\n",
    "import folium\n",
    "import branca\n",
    "\n",
    "GPSData = pd.read_csv('Escritorio/nuevo/inclinacion1.csv', # GPS DATA\n",
    "                      header=0)\n",
    "REFMAP = pd.read_csv('Escritorio/nuevo/ref123.csv', #REFERENCE MAP\n",
    "                      header=0)\n",
    "# VARIABLES GPS DATA\n",
    "latGPS = GPSData['lat']  # latitud Datos GPS\n",
    "lonGPS = GPSData['lon']  # longitud Datos GPS\n",
    "UTMX = [] # coordenadas X\n",
    "UTMY = [] # coordenadas Y\n",
    "# VARIABLES REFERENCE MAP DATA\n",
    "latRM = REFMAP['lat']\n",
    "lonRM = REFMAP['lon']\n",
    "REFX = []\n",
    "REFY = []\n",
    "m=[] #pendiente\n",
    "#valores de los puntos extremos del secmento\n",
    "X_1=[]\n",
    "Y_1=[]\n",
    "X_2=[]\n",
    "Y_2=[]\n",
    "#distancias a cada uno de los segmentos\n",
    "D=[]\n",
    "d1=[]\n",
    "d2=[]\n",
    "d3=[]\n",
    "d4=[]\n",
    "d5=[]\n",
    "d6=[]\n",
    "d7=[]\n",
    "d8=[]\n",
    "d9=[]\n",
    "d10=[]\n",
    "d11=[]\n",
    "d12=[]\n",
    "d13=[]\n",
    "d14=[]\n",
    "d15=[]\n",
    "d16=[]\n",
    "d17=[]\n",
    "d18=[]\n",
    "\n",
    "#mapa de referencia \n",
    "data = pd.DataFrame(GPSData[:43], columns = ['lat','lon'])\n",
    "data.head()\n",
    "\n",
    "def colores(row):\n",
    "    return 'blue'\n",
    "    \n",
    "\n",
    "data['color'] = data.apply(colores, axis=1)\n",
    "data.head()\n",
    "\n",
    "\n",
    "\n",
    "mapred_GPS = folium.Map(location=[0.339035,-78.140066], zoom_start=100)\n",
    "\n",
    "data.apply(lambda row:folium.CircleMarker(location=[row[\"lat\"], row[\"lon\"]],\n",
    "                                          radius=1, fill_color=row['color'], color=row['color'])\n",
    "                                            .add_to(mapred_GPS), axis=1)\n",
    "\n",
    "#convierte los datos utm a valores de X Y datos tomados con el GPS\n",
    "def XY():\n",
    "    for i in np.arange(0, len(lonGPS)):\n",
    "        (x, y, zonanumber, zonaletter) = utm.from_latlon(latGPS.loc[i], lonGPS.loc[i])\n",
    "        UTMX.append(x)\n",
    "        UTMY.append(y)\n",
    "#convierte los datos utm a valores de X Y mapa de refeerencia\n",
    "def XYR():#jupyter notebook paramyko  libreria--->folium par grafiicar y crear mapas\n",
    "\n",
    "    for i in np.arange(0, len(lonRM)):\n",
    "        (x, y, zonanumber, zonaletter) = utm.from_latlon(latRM.loc[i], lonRM.loc[i]) #ix 2.7. loc 3.6\n",
    "        REFX.append(x)\n",
    "        REFY.append(y)\n",
    "\n",
    "XYR()\n",
    "#clasifica punto inicial y final de la recta\n",
    "for i in range (0,2):\n",
    "    X11=REFX[i]\n",
    "    Y11=REFY[i]\n",
    "    X22=REFX[i+1]\n",
    "    Y22=REFY[i+1]\n",
    "    m1=(Y22-Y11)/(X22-X11)\n",
    "    m.append(m1)\n",
    "    X_1.append(X11)\n",
    "    Y_1.append(Y11)\n",
    "    X_2.append(X22)\n",
    "    Y_2.append(Y22)\n",
    "   \n",
    "    #X=(m*(Y3-Y1+(m*X1))+X3)/((m**2)+1)\n",
    "    #Y=Y1+(m*(X-X1))\n",
    "#GPS DATA\n",
    "#valores tomados por el GPS\n",
    "XY()\n",
    "X_3 = np.array(UTMX)\n",
    "Y_3 = np.array(UTMY)\n",
    "#PRIMER: distancias de cada punto tomado a cada segmento\n",
    "for i in range(0,2):\n",
    "    X1=X_1[i]#los valores estaticos\n",
    "    Y1=Y_1[i]\n",
    "    X2=X_2[i]#los valores estaticos\n",
    "    Y2=Y_2[i]\n",
    "    for j in range(0,79):\n",
    "        X3=X_3[j]#el que se mueve\n",
    "        Y3=Y_3[j]\n",
    "       #CORRECT DATA\n",
    "        d=((X3*(Y1-Y2)-Y3*(X1-X2)+(X1*Y2-X2*Y1))/(math.sqrt(((X1-X2)**2)+((Y1-Y2)**2))))\n",
    "        D.append(d)\n",
    "\n",
    "D = np.absolute(D) #datos de distancia en valor absoluto\n",
    "#clasifica los datos de distancia de cada punto en los segmentos de referencia\n",
    "for k in range(0,158):\n",
    "    df=D[k]\n",
    "    if k<80:\n",
    "        d1.append(df)\n",
    "    if k>79 and k<161:\n",
    "        d2.append(df)\n",
    "    \n",
    "\n",
    "\n",
    "plt.figure()\n",
    "plt.plot(lonRM,latRM, '.-', label='MAPA DE REFERENCIA')\n",
    "plt.plot(lonGPS,latGPS, 'o-', label='DATOS GPS')\n",
    "plt.ylabel('latitud')  # nombra el eje x\n",
    "plt.xlabel('longitud')  # nombra el eje y\n",
    "plt.title('DATOS')\n",
    "plt.legend()\n",
    "plt.show()\n",
    "\n",
    "\n"
   ]
  },
  {
   "cell_type": "code",
   "execution_count": 2,
   "metadata": {},
   "outputs": [
    {
     "ename": "NameError",
     "evalue": "name 'd1' is not defined",
     "output_type": "error",
     "traceback": [
      "\u001b[0;31m---------------------------------------------------------------------------\u001b[0m",
      "\u001b[0;31mNameError\u001b[0m                                 Traceback (most recent call last)",
      "\u001b[0;32m<ipython-input-2-d0a81a2350c0>\u001b[0m in \u001b[0;36m<module>\u001b[0;34m\u001b[0m\n\u001b[1;32m      2\u001b[0m \u001b[0;34m\u001b[0m\u001b[0m\n\u001b[1;32m      3\u001b[0m \u001b[0;32mfor\u001b[0m \u001b[0mi\u001b[0m \u001b[0;32min\u001b[0m \u001b[0mrange\u001b[0m\u001b[0;34m(\u001b[0m\u001b[0;36m0\u001b[0m\u001b[0;34m,\u001b[0m\u001b[0;36m78\u001b[0m\u001b[0;34m)\u001b[0m\u001b[0;34m:\u001b[0m\u001b[0;34m\u001b[0m\u001b[0;34m\u001b[0m\u001b[0m\n\u001b[0;32m----> 4\u001b[0;31m     \u001b[0ma_3\u001b[0m\u001b[0;34m=\u001b[0m\u001b[0;34m[\u001b[0m\u001b[0md1\u001b[0m\u001b[0;34m[\u001b[0m\u001b[0mi\u001b[0m\u001b[0;34m]\u001b[0m\u001b[0;34m,\u001b[0m\u001b[0md2\u001b[0m\u001b[0;34m[\u001b[0m\u001b[0mi\u001b[0m\u001b[0;34m]\u001b[0m\u001b[0;34m]\u001b[0m\u001b[0;34m\u001b[0m\u001b[0;34m\u001b[0m\u001b[0m\n\u001b[0m\u001b[1;32m      5\u001b[0m          \u001b[0;31m#,d3[i],d4[i],d5[i],d6[i],d7[i],d8[i],d9[i],d10[i],d11[i],d12[i],d13[i],d14[i],d15[i],d16[i],d17[i],d18[i]]\u001b[0m\u001b[0;34m\u001b[0m\u001b[0;34m\u001b[0m\u001b[0;34m\u001b[0m\u001b[0m\n\u001b[1;32m      6\u001b[0m     \u001b[0;31m#a4=[L4[i+1],L5[i+1]]\u001b[0m\u001b[0;34m\u001b[0m\u001b[0;34m\u001b[0m\u001b[0;34m\u001b[0m\u001b[0m\n",
      "\u001b[0;31mNameError\u001b[0m: name 'd1' is not defined"
     ]
    }
   ],
   "source": [
    "DC=[]#ubica las diferentes distancias de segmentos a cada punto\n",
    "\n",
    "for i in range(0,78):\n",
    "    a_3=[d1[i],d2[i]]\n",
    "         #,d3[i],d4[i],d5[i],d6[i],d7[i],d8[i],d9[i],d10[i],d11[i],d12[i],d13[i],d14[i],d15[i],d16[i],d17[i],d18[i]]\n",
    "    #a4=[L4[i+1],L5[i+1]]\n",
    "    DC.append(a_3)\n"
   ]
  },
  {
   "cell_type": "code",
   "execution_count": 3,
   "metadata": {},
   "outputs": [
    {
     "name": "stdout",
     "output_type": "stream",
     "text": [
      "[]\n"
     ]
    }
   ],
   "source": [
    "print (DC)"
   ]
  },
  {
   "cell_type": "code",
   "execution_count": 4,
   "metadata": {},
   "outputs": [
    {
     "ename": "IndexError",
     "evalue": "list index out of range",
     "output_type": "error",
     "traceback": [
      "\u001b[0;31m---------------------------------------------------------------------------\u001b[0m",
      "\u001b[0;31mIndexError\u001b[0m                                Traceback (most recent call last)",
      "\u001b[0;32m<ipython-input-4-5d790d00aed2>\u001b[0m in \u001b[0;36m<module>\u001b[0;34m\u001b[0m\n\u001b[1;32m      1\u001b[0m \u001b[0;31m#toma el valor mínimo de distancia de cada punto\u001b[0m\u001b[0;34m\u001b[0m\u001b[0;34m\u001b[0m\u001b[0;34m\u001b[0m\u001b[0m\n\u001b[0;32m----> 2\u001b[0;31m \u001b[0mo1\u001b[0m\u001b[0;34m=\u001b[0m\u001b[0;34m[\u001b[0m\u001b[0mp\u001b[0m \u001b[0;32mfor\u001b[0m \u001b[0mp\u001b[0m\u001b[0;34m,\u001b[0m \u001b[0mv\u001b[0m \u001b[0;32min\u001b[0m \u001b[0menumerate\u001b[0m\u001b[0;34m(\u001b[0m\u001b[0mDC\u001b[0m\u001b[0;34m[\u001b[0m\u001b[0;36m17\u001b[0m\u001b[0;34m]\u001b[0m\u001b[0;34m)\u001b[0m \u001b[0;32mif\u001b[0m \u001b[0mv\u001b[0m \u001b[0;34m==\u001b[0m \u001b[0mmin\u001b[0m\u001b[0;34m(\u001b[0m\u001b[0mDC\u001b[0m\u001b[0;34m[\u001b[0m\u001b[0;36m17\u001b[0m\u001b[0;34m]\u001b[0m\u001b[0;34m)\u001b[0m\u001b[0;34m]\u001b[0m\u001b[0;34m\u001b[0m\u001b[0;34m\u001b[0m\u001b[0m\n\u001b[0m\u001b[1;32m      3\u001b[0m \u001b[0;31m#print(o1)\u001b[0m\u001b[0;34m\u001b[0m\u001b[0;34m\u001b[0m\u001b[0;34m\u001b[0m\u001b[0m\n\u001b[1;32m      4\u001b[0m \u001b[0mw\u001b[0m\u001b[0;34m=\u001b[0m\u001b[0mnp\u001b[0m\u001b[0;34m.\u001b[0m\u001b[0marray\u001b[0m\u001b[0;34m(\u001b[0m\u001b[0mo1\u001b[0m\u001b[0;34m)\u001b[0m\u001b[0;34m\u001b[0m\u001b[0;34m\u001b[0m\u001b[0m\n\u001b[1;32m      5\u001b[0m \u001b[0mww\u001b[0m\u001b[0;34m=\u001b[0m\u001b[0mnp\u001b[0m\u001b[0;34m.\u001b[0m\u001b[0mint\u001b[0m\u001b[0;34m(\u001b[0m\u001b[0mw\u001b[0m\u001b[0;34m)\u001b[0m\u001b[0;34m\u001b[0m\u001b[0;34m\u001b[0m\u001b[0m\n",
      "\u001b[0;31mIndexError\u001b[0m: list index out of range"
     ]
    }
   ],
   "source": [
    "#toma el valor mínimo de distancia de cada punto\n",
    "o1=[p for p, v in enumerate(DC[17]) if v == min(DC[17])]\n",
    "#print(o1)\n",
    "w=np.array(o1)\n",
    "ww=np.int(w)\n",
    "#print(DC[7])"
   ]
  },
  {
   "cell_type": "code",
   "execution_count": 5,
   "metadata": {},
   "outputs": [
    {
     "ename": "IndexError",
     "evalue": "list index out of range",
     "output_type": "error",
     "traceback": [
      "\u001b[0;31m---------------------------------------------------------------------------\u001b[0m",
      "\u001b[0;31mIndexError\u001b[0m                                Traceback (most recent call last)",
      "\u001b[0;32m<ipython-input-5-959f28479268>\u001b[0m in \u001b[0;36m<module>\u001b[0;34m\u001b[0m\n\u001b[1;32m      1\u001b[0m \u001b[0mzk\u001b[0m\u001b[0;34m=\u001b[0m\u001b[0;34m[\u001b[0m\u001b[0;34m]\u001b[0m \u001b[0;31m#almacena los datos en un array\u001b[0m\u001b[0;34m\u001b[0m\u001b[0;34m\u001b[0m\u001b[0m\n\u001b[1;32m      2\u001b[0m \u001b[0;32mfor\u001b[0m \u001b[0mj\u001b[0m \u001b[0;32min\u001b[0m \u001b[0mrange\u001b[0m\u001b[0;34m(\u001b[0m\u001b[0;36m0\u001b[0m\u001b[0;34m,\u001b[0m\u001b[0;36m78\u001b[0m\u001b[0;34m)\u001b[0m\u001b[0;34m:\u001b[0m\u001b[0;34m\u001b[0m\u001b[0;34m\u001b[0m\u001b[0m\n\u001b[0;32m----> 3\u001b[0;31m     \u001b[0mo1\u001b[0m\u001b[0;34m=\u001b[0m\u001b[0;34m[\u001b[0m\u001b[0mp\u001b[0m \u001b[0;32mfor\u001b[0m \u001b[0mp\u001b[0m\u001b[0;34m,\u001b[0m \u001b[0mv\u001b[0m \u001b[0;32min\u001b[0m \u001b[0menumerate\u001b[0m\u001b[0;34m(\u001b[0m\u001b[0mDC\u001b[0m\u001b[0;34m[\u001b[0m\u001b[0mj\u001b[0m\u001b[0;34m]\u001b[0m\u001b[0;34m)\u001b[0m \u001b[0;32mif\u001b[0m \u001b[0mv\u001b[0m \u001b[0;34m==\u001b[0m \u001b[0mmin\u001b[0m\u001b[0;34m(\u001b[0m\u001b[0mDC\u001b[0m\u001b[0;34m[\u001b[0m\u001b[0mj\u001b[0m\u001b[0;34m]\u001b[0m\u001b[0;34m)\u001b[0m\u001b[0;34m]\u001b[0m\u001b[0;34m\u001b[0m\u001b[0;34m\u001b[0m\u001b[0m\n\u001b[0m\u001b[1;32m      4\u001b[0m    \u001b[0;31m# print(o1)\u001b[0m\u001b[0;34m\u001b[0m\u001b[0;34m\u001b[0m\u001b[0;34m\u001b[0m\u001b[0m\n\u001b[1;32m      5\u001b[0m     \u001b[0mw\u001b[0m\u001b[0;34m=\u001b[0m\u001b[0mnp\u001b[0m\u001b[0;34m.\u001b[0m\u001b[0marray\u001b[0m\u001b[0;34m(\u001b[0m\u001b[0mo1\u001b[0m\u001b[0;34m)\u001b[0m\u001b[0;34m\u001b[0m\u001b[0;34m\u001b[0m\u001b[0m\n",
      "\u001b[0;31mIndexError\u001b[0m: list index out of range"
     ]
    }
   ],
   "source": [
    "zk=[] #almacena los datos en un array\n",
    "for j in range(0,78):\n",
    "    o1=[p for p, v in enumerate(DC[j]) if v == min(DC[j])]\n",
    "   # print(o1)\n",
    "    w=np.array(o1)\n",
    "    ww=np.int(w)\n",
    "    zk.append(ww)\n",
    "\n",
    "print (zk)"
   ]
  },
  {
   "cell_type": "code",
   "execution_count": 6,
   "metadata": {},
   "outputs": [
    {
     "ename": "IndexError",
     "evalue": "list index out of range",
     "output_type": "error",
     "traceback": [
      "\u001b[0;31m---------------------------------------------------------------------------\u001b[0m",
      "\u001b[0;31mIndexError\u001b[0m                                Traceback (most recent call last)",
      "\u001b[0;32m<ipython-input-6-df9a1b5eb725>\u001b[0m in \u001b[0;36m<module>\u001b[0;34m\u001b[0m\n\u001b[1;32m      5\u001b[0m \u001b[0;34m\u001b[0m\u001b[0m\n\u001b[1;32m      6\u001b[0m \u001b[0;32mfor\u001b[0m \u001b[0mh\u001b[0m \u001b[0;32min\u001b[0m \u001b[0mrange\u001b[0m \u001b[0;34m(\u001b[0m\u001b[0;36m0\u001b[0m\u001b[0;34m,\u001b[0m\u001b[0;36m78\u001b[0m\u001b[0;34m)\u001b[0m\u001b[0;34m:\u001b[0m\u001b[0;34m\u001b[0m\u001b[0;34m\u001b[0m\u001b[0m\n\u001b[0;32m----> 7\u001b[0;31m     \u001b[0mc\u001b[0m\u001b[0;34m=\u001b[0m\u001b[0mzk\u001b[0m\u001b[0;34m[\u001b[0m\u001b[0mh\u001b[0m\u001b[0;34m]\u001b[0m\u001b[0;34m\u001b[0m\u001b[0;34m\u001b[0m\u001b[0m\n\u001b[0m\u001b[1;32m      8\u001b[0m     \u001b[0mXF1\u001b[0m\u001b[0;34m=\u001b[0m\u001b[0mX_1\u001b[0m\u001b[0;34m[\u001b[0m\u001b[0mc\u001b[0m\u001b[0;34m]\u001b[0m\u001b[0;34m\u001b[0m\u001b[0;34m\u001b[0m\u001b[0m\n\u001b[1;32m      9\u001b[0m     \u001b[0mXF2\u001b[0m\u001b[0;34m=\u001b[0m\u001b[0mX_2\u001b[0m\u001b[0;34m[\u001b[0m\u001b[0mc\u001b[0m\u001b[0;34m]\u001b[0m\u001b[0;34m\u001b[0m\u001b[0;34m\u001b[0m\u001b[0m\n",
      "\u001b[0;31mIndexError\u001b[0m: list index out of range"
     ]
    }
   ],
   "source": [
    "#segundo \n",
    "#encuentra el dato en valores de X Y sobre el segmento que correspondearray\n",
    "Xff=[]\n",
    "Yff=[]\n",
    "\n",
    "for h in range (0,78):\n",
    "    c=zk[h]\n",
    "    XF1=X_1[c]\n",
    "    XF2=X_2[c]\n",
    "    YF1=Y_1[c]\n",
    "    YF2=Y_2[c]\n",
    "    XF3=X_3[h]\n",
    "    YF3=Y_3[h]\n",
    "    mf=m[c]\n",
    "    XF=(mf*(YF3-YF1+(mf*XF1))+XF3)/((mf**2)+1)\n",
    "    YF=YF1+(mf*(XF-XF1))\n",
    "    Xff.append(XF)\n",
    "    Yff.append(YF)"
   ]
  },
  {
   "cell_type": "code",
   "execution_count": 7,
   "metadata": {},
   "outputs": [
    {
     "ename": "NameError",
     "evalue": "name 'plt' is not defined",
     "output_type": "error",
     "traceback": [
      "\u001b[0;31m---------------------------------------------------------------------------\u001b[0m",
      "\u001b[0;31mNameError\u001b[0m                                 Traceback (most recent call last)",
      "\u001b[0;32m<ipython-input-7-b899afe82467>\u001b[0m in \u001b[0;36m<module>\u001b[0;34m\u001b[0m\n\u001b[0;32m----> 1\u001b[0;31m \u001b[0mplt\u001b[0m\u001b[0;34m.\u001b[0m\u001b[0mfigure\u001b[0m\u001b[0;34m(\u001b[0m\u001b[0;34m)\u001b[0m\u001b[0;34m\u001b[0m\u001b[0;34m\u001b[0m\u001b[0m\n\u001b[0m\u001b[1;32m      2\u001b[0m \u001b[0mplt\u001b[0m\u001b[0;34m.\u001b[0m\u001b[0mplot\u001b[0m\u001b[0;34m(\u001b[0m\u001b[0mREFX\u001b[0m\u001b[0;34m,\u001b[0m\u001b[0mREFY\u001b[0m\u001b[0;34m,\u001b[0m \u001b[0;34m'-'\u001b[0m\u001b[0;34m,\u001b[0m \u001b[0mlabel\u001b[0m\u001b[0;34m=\u001b[0m\u001b[0;34m'MAPA DE REFERENCIA'\u001b[0m\u001b[0;34m)\u001b[0m\u001b[0;34m\u001b[0m\u001b[0;34m\u001b[0m\u001b[0m\n\u001b[1;32m      3\u001b[0m \u001b[0mplt\u001b[0m\u001b[0;34m.\u001b[0m\u001b[0mplot\u001b[0m\u001b[0;34m(\u001b[0m\u001b[0mXff\u001b[0m\u001b[0;34m,\u001b[0m\u001b[0mYff\u001b[0m\u001b[0;34m,\u001b[0m \u001b[0;34m'o-'\u001b[0m\u001b[0;34m,\u001b[0m \u001b[0mlabel\u001b[0m\u001b[0;34m=\u001b[0m\u001b[0;34m'DATOS CORRECTOS'\u001b[0m\u001b[0;34m)\u001b[0m\u001b[0;34m\u001b[0m\u001b[0;34m\u001b[0m\u001b[0m\n\u001b[1;32m      4\u001b[0m \u001b[0mplt\u001b[0m\u001b[0;34m.\u001b[0m\u001b[0mplot\u001b[0m\u001b[0;34m(\u001b[0m\u001b[0mUTMX\u001b[0m\u001b[0;34m,\u001b[0m\u001b[0mUTMY\u001b[0m\u001b[0;34m,\u001b[0m \u001b[0;34m'o-'\u001b[0m\u001b[0;34m,\u001b[0m \u001b[0mlabel\u001b[0m\u001b[0;34m=\u001b[0m\u001b[0;34m'DATOS CORRECTOS'\u001b[0m\u001b[0;34m)\u001b[0m\u001b[0;34m\u001b[0m\u001b[0;34m\u001b[0m\u001b[0m\n\u001b[1;32m      5\u001b[0m \u001b[0mplt\u001b[0m\u001b[0;34m.\u001b[0m\u001b[0mylabel\u001b[0m\u001b[0;34m(\u001b[0m\u001b[0;34m'latitud'\u001b[0m\u001b[0;34m)\u001b[0m  \u001b[0;31m# nombra el eje x\u001b[0m\u001b[0;34m\u001b[0m\u001b[0;34m\u001b[0m\u001b[0m\n",
      "\u001b[0;31mNameError\u001b[0m: name 'plt' is not defined"
     ]
    }
   ],
   "source": [
    "plt.figure()\n",
    "plt.plot(REFX,REFY, '-', label='MAPA DE REFERENCIA')\n",
    "plt.plot(Xff,Yff, 'o-', label='DATOS CORRECTOS')\n",
    "plt.plot(UTMX,UTMY, 'o-', label='DATOS CORRECTOS')\n",
    "plt.ylabel('latitud')  # nombra el eje x\n",
    "plt.xlabel('longitud')  # nombra el eje y\n",
    "plt.title('DATOS CORREGIDOS')\n",
    "plt.legend()\n",
    "plt.show()"
   ]
  },
  {
   "cell_type": "code",
   "execution_count": null,
   "metadata": {},
   "outputs": [],
   "source": [
    "print (zk)"
   ]
  },
  {
   "cell_type": "code",
   "execution_count": 9,
   "metadata": {},
   "outputs": [
    {
     "name": "stdout",
     "output_type": "stream",
     "text": [
      "[818290.1983953554, 818184.4633847782]\n"
     ]
    }
   ],
   "source": [
    "print (X_1)"
   ]
  },
  {
   "cell_type": "code",
   "execution_count": 10,
   "metadata": {},
   "outputs": [
    {
     "name": "stdout",
     "output_type": "stream",
     "text": [
      "[37526.669039727756, 37541.68873337827]\n"
     ]
    }
   ],
   "source": [
    "print (Y_1)"
   ]
  },
  {
   "cell_type": "code",
   "execution_count": 11,
   "metadata": {},
   "outputs": [
    {
     "name": "stdout",
     "output_type": "stream",
     "text": [
      "[1.84643068e+00 8.32525187e-01 1.95961691e+00 2.86260739e+00\n",
      " 2.47989109e+00 6.05511022e-02 2.16639734e+00 2.23390762e-01\n",
      " 1.65716764e+00 3.60826156e+00 2.14864102e+00 6.51958799e-01\n",
      " 3.34744497e+00 5.05094434e+00 3.42249114e+00 1.61415412e+00\n",
      " 1.38674591e+00 3.08323497e+00 2.77418190e+00 1.23084257e+00\n",
      " 1.97758497e+00 3.76484589e+00 2.41279600e+00 4.85968777e-01\n",
      " 2.83065968e+00 3.17652453e+00 2.23826484e+00 8.76719163e-02\n",
      " 2.22383973e+00 3.32373816e+00 1.49107585e+00 1.34694674e+00\n",
      " 3.91384123e+00 4.81731724e+00 3.15895898e+00 3.90846298e-01\n",
      " 1.50973168e+00 8.25405958e-01 2.16110416e-01 1.91362852e+00\n",
      " 2.84306821e-01 2.27107777e+00 4.03227115e+00 2.81293994e+00\n",
      " 3.30595203e-01 7.02993221e-01 3.25104055e+00 5.82662430e+00\n",
      " 6.81478417e+00 4.65622986e+00 3.46521001e+00 3.94983320e+00\n",
      " 4.09898468e+00 4.09278602e+00 5.27602072e+00 8.17082232e+00\n",
      " 1.13766820e+01 1.11546119e+01 1.02699676e+01 1.02850950e+01\n",
      " 1.03219449e+01 1.10902049e+01 1.23453475e+01 1.48392709e+01\n",
      " 1.70689877e+01 1.55972587e+01 1.40181294e+01 1.44071729e+01\n",
      " 1.52447664e+01 1.74140531e+01 1.85424751e+01 1.78363904e+01\n",
      " 1.82417243e+01 1.95416656e+01 2.06839244e+01 2.15301940e+01\n",
      " 2.18335809e+01 2.21566570e+01 2.40052980e+01 2.19034754e+01\n",
      " 2.08661721e+01 1.81255703e+01 1.72298494e+01 1.70349245e+01\n",
      " 1.91247699e+01 2.08268152e+01 1.86096890e+01 1.67004107e+01\n",
      " 1.42862595e+01 1.49085634e+01 1.69249327e+01 1.89624080e+01\n",
      " 2.01437913e+01 1.81893286e+01 1.60756623e+01 1.26180729e+01\n",
      " 1.04880260e+01 1.01889994e+01 1.11487539e+01 1.36895059e+01\n",
      " 1.47808859e+01 1.27052193e+01 9.55030098e+00 6.95695977e+00\n",
      " 6.01821549e+00 6.43581097e+00 8.10377433e+00 9.61514667e+00\n",
      " 9.97624296e+00 7.46647721e+00 4.12330105e+00 1.19695463e+00\n",
      " 1.50078648e-02 9.10284410e-01 2.85757387e+00 3.98351611e+00\n",
      " 2.57531729e+00 7.32640528e-01 1.67575055e+00 6.57164989e-01\n",
      " 1.40901473e+00 2.59898203e+00 5.81499277e-01 2.51760879e+00\n",
      " 2.72932220e+00 5.99531606e-01 1.48261438e+00 1.96553799e+00\n",
      " 7.81905635e-01 2.59893051e+00 3.02219635e+00 3.51439900e+00\n",
      " 3.87713916e+00 3.30532945e+00 1.18341488e+00 1.30528942e+00\n",
      " 8.21974701e-01 6.39635254e-01 1.48786561e+00 2.21556743e+00\n",
      " 2.20301055e+00 1.51169339e+00 5.46469460e-01 2.09583756e+00\n",
      " 1.30228673e-01 2.20678046e+00 2.51118299e+00 2.34531531e+00\n",
      " 5.25617957e-01 8.76650792e-02 1.09766621e+00 7.43408358e-01\n",
      " 2.18520330e-01 7.31931136e-01 1.03364947e+00 5.82579427e-01\n",
      " 8.69899767e-02 1.38852121e+00]\n"
     ]
    }
   ],
   "source": [
    "print (D)"
   ]
  },
  {
   "cell_type": "code",
   "execution_count": 12,
   "metadata": {},
   "outputs": [
    {
     "name": "stdout",
     "output_type": "stream",
     "text": [
      "[[1.8464306809971456, 20.866172054269537], [0.8325251870557857, 18.12557034037853], [1.9596169129199903, 17.229849373799656], [2.8626073876507085, 17.03492447345673], [2.4798910869102433, 19.124769947425367], [0.060551102225007654, 20.826815243100224], [2.1663973354966686, 18.609689038533915], [0.22339076220379425, 16.700410730466192], [1.6571676401590012, 14.286259455238765], [3.6082615643978575, 14.908563412856834], [2.1486410183259075, 16.924932738333098], [0.6519587985345584, 18.962408026957846], [3.3474449650709013, 20.14379125718828], [5.050944337123931, 18.189328551146716], [3.422491144689905, 16.07566228234726], [1.6141541196650366, 12.61807290283958], [1.386745912171714, 10.488026003361831], [3.0832349728769235, 10.188999357523691], [2.7741819007785424, 11.148753923016715], [1.2308425700203527, 13.68950593810879], [1.977584970542799, 14.780885867310014], [3.7648458891550276, 12.705219254942117], [2.412796003267526, 9.550300984711255], [0.4859687774192723, 6.956959770095787], [2.830659676977699, 6.018215485526899], [3.1765245336524934, 6.435810965933566], [2.2382648440258923, 8.10377432593768], [0.08767191630482919, 9.615146666862124], [2.223839728630152, 9.976242964670687], [3.3237381575703715, 7.466477211343473], [1.4910758474530905, 4.123301051161335], [1.346946743476462, 1.1969546320661544], [3.9138412311935236, 0.015007864830243451], [4.817317235775568, 0.9102844104522602], [3.15895897931346, 2.8575738668356863], [0.3908462975413691, 3.98351611163177], [1.509731684451551, 2.575317288515986], [0.8254059575667203, 0.7326405282028887], [0.21611041563084502, 1.6757505523698741], [1.9136285213198965, 0.657164988517151], [0.28430682086084536, 1.4090147252832605], [2.2710777664826667, 2.59898202705419], [4.0322711484030584, 0.5814992765898842], [2.812939940702121, 2.517608789031183], [0.33059520287348115, 2.72932219757514], [0.7029932205217325, 0.5995316056120954], [3.2510405468234027, 1.4826143782750338], [5.826624297265368, 1.9655379903632821], [6.814784168778444, 0.7819056352568861], [4.656229858857753, 2.5989305100173437], [3.465210007188437, 3.022196353068708], [3.949833202112638, 3.5143990043591113], [4.09898467655808, 3.8771391622503857], [4.092786022042616, 3.305329451853142], [5.27602072311978, 1.1834148778117335], [8.170822316640317, 1.3052894162202688], [11.376681954540723, 0.8219747005386713], [11.15461192693229, 0.6396352544526175], [10.269967577358509, 1.4878656060643114], [10.285095037154955, 2.215567431214873], [10.321944850288176, 2.2030105511486475], [11.090204884879515, 1.5116933855517545], [12.345347477622841, 0.5464694602925948], [14.839270936374634, 2.0958375556728797], [17.06898771821936, 0.1302286729867097], [15.597258734441986, 2.206780455072455], [14.018129414184788, 2.511182986577857], [14.407172862538633, 2.3453153110829486], [15.244766355026016, 0.5256179567661605], [17.41405308806087, 0.08766507916863857], [18.542475129042963, 1.0976662137997608], [17.836390372418844, 0.7434083581598895], [18.241724333135398, 0.21852033044027483], [19.541665580101288, 0.731931136052783], [20.683924403659148, 1.0336494668039597], [21.530193982435076, 0.5825794268779777], [21.833580923610057, 0.08698997672828825], [22.156657015086967, 1.3885212123161486]]\n"
     ]
    }
   ],
   "source": [
    "print (DC)"
   ]
  },
  {
   "cell_type": "code",
   "execution_count": 13,
   "metadata": {},
   "outputs": [
    {
     "name": "stdout",
     "output_type": "stream",
     "text": [
      "[0, 0, 0, 0, 0, 0, 0, 0, 0, 0, 0, 0, 0, 0, 0, 0, 0, 0, 0, 0, 0, 0, 0, 0, 0, 0, 0, 0, 0, 0, 0, 1, 1, 1, 1, 0, 0, 1, 0, 1, 0, 0, 1, 1, 0, 1, 1, 1, 1, 1, 1, 1, 1, 1, 1, 1, 1, 1, 1, 1, 1, 1, 1, 1, 1, 1, 1, 1, 1, 1, 1, 1, 1, 1, 1, 1, 1, 1]\n"
     ]
    }
   ],
   "source": [
    "print (zk)"
   ]
  },
  {
   "cell_type": "code",
   "execution_count": 14,
   "metadata": {},
   "outputs": [
    {
     "name": "stdout",
     "output_type": "stream",
     "text": [
      "[-0.14205033478064027, 0.08888649008809388]\n"
     ]
    }
   ],
   "source": [
    "print (m)"
   ]
  },
  {
   "cell_type": "code",
   "execution_count": 15,
   "metadata": {},
   "outputs": [
    {
     "ename": "IndexError",
     "evalue": "list index out of range",
     "output_type": "error",
     "traceback": [
      "\u001b[0;31m---------------------------------------------------------------------------\u001b[0m",
      "\u001b[0;31mIndexError\u001b[0m                                Traceback (most recent call last)",
      "\u001b[0;32m<ipython-input-15-43955539dc15>\u001b[0m in \u001b[0;36m<module>\u001b[0;34m\u001b[0m\n\u001b[0;32m----> 1\u001b[0;31m \u001b[0mXF\u001b[0m\u001b[0;34m=\u001b[0m\u001b[0;34m(\u001b[0m\u001b[0mm\u001b[0m\u001b[0;34m[\u001b[0m\u001b[0;36m4\u001b[0m\u001b[0;34m]\u001b[0m\u001b[0;34m*\u001b[0m\u001b[0;34m(\u001b[0m\u001b[0mY_3\u001b[0m\u001b[0;34m[\u001b[0m\u001b[0;36m4\u001b[0m\u001b[0;34m]\u001b[0m\u001b[0;34m-\u001b[0m\u001b[0mY_1\u001b[0m\u001b[0;34m[\u001b[0m\u001b[0;36m4\u001b[0m\u001b[0;34m]\u001b[0m\u001b[0;34m+\u001b[0m\u001b[0;34m(\u001b[0m\u001b[0mm\u001b[0m\u001b[0;34m[\u001b[0m\u001b[0;36m4\u001b[0m\u001b[0;34m]\u001b[0m\u001b[0;34m*\u001b[0m\u001b[0mX_1\u001b[0m\u001b[0;34m[\u001b[0m\u001b[0;36m4\u001b[0m\u001b[0;34m]\u001b[0m\u001b[0;34m)\u001b[0m\u001b[0;34m)\u001b[0m\u001b[0;34m+\u001b[0m\u001b[0mX_3\u001b[0m\u001b[0;34m[\u001b[0m\u001b[0;36m4\u001b[0m\u001b[0;34m]\u001b[0m\u001b[0;34m)\u001b[0m\u001b[0;34m/\u001b[0m\u001b[0;34m(\u001b[0m\u001b[0;34m(\u001b[0m\u001b[0mm\u001b[0m\u001b[0;34m[\u001b[0m\u001b[0;36m4\u001b[0m\u001b[0;34m]\u001b[0m\u001b[0;34m**\u001b[0m\u001b[0;36m2\u001b[0m\u001b[0;34m)\u001b[0m\u001b[0;34m+\u001b[0m\u001b[0;36m1\u001b[0m\u001b[0;34m)\u001b[0m\u001b[0;34m\u001b[0m\u001b[0;34m\u001b[0m\u001b[0m\n\u001b[0m\u001b[1;32m      2\u001b[0m \u001b[0mYF\u001b[0m\u001b[0;34m=\u001b[0m\u001b[0mY_1\u001b[0m\u001b[0;34m[\u001b[0m\u001b[0;36m4\u001b[0m\u001b[0;34m]\u001b[0m\u001b[0;34m+\u001b[0m\u001b[0;34m(\u001b[0m\u001b[0mm\u001b[0m\u001b[0;34m[\u001b[0m\u001b[0;36m4\u001b[0m\u001b[0;34m]\u001b[0m\u001b[0;34m*\u001b[0m\u001b[0;34m(\u001b[0m\u001b[0mXF\u001b[0m\u001b[0;34m-\u001b[0m\u001b[0mX_1\u001b[0m\u001b[0;34m[\u001b[0m\u001b[0;36m4\u001b[0m\u001b[0;34m]\u001b[0m\u001b[0;34m)\u001b[0m\u001b[0;34m)\u001b[0m\u001b[0;34m\u001b[0m\u001b[0;34m\u001b[0m\u001b[0m\n",
      "\u001b[0;31mIndexError\u001b[0m: list index out of range"
     ]
    }
   ],
   "source": [
    "XF=(m[4]*(Y_3[4]-Y_1[4]+(m[4]*X_1[4]))+X_3[4])/((m[4]**2)+1)\n",
    "YF=Y_1[4]+(m[4]*(XF-X_1[4]))"
   ]
  },
  {
   "cell_type": "code",
   "execution_count": 16,
   "metadata": {},
   "outputs": [
    {
     "name": "stdout",
     "output_type": "stream",
     "text": [
      "818087.928204403 37533.1080600247\n"
     ]
    }
   ],
   "source": [
    "print (XF,YF)"
   ]
  },
  {
   "cell_type": "code",
   "execution_count": 17,
   "metadata": {},
   "outputs": [
    {
     "data": {
      "image/png": "[encoded data removed]",
      "text/plain": [
       "<Figure size 432x288 with 1 Axes>"
      ]
     },
     "metadata": {
      "needs_background": "light"
     },
     "output_type": "display_data"
    }
   ],
   "source": [
    "XF=109873.2144\n",
    "YF=190903.3894\n",
    "plt.figure()\n",
    "plt.plot(REFX,REFY, 'o-', label='MAPA DE REFERENCIA')\n",
    "#plt.plot(XF,YF, 'o', label='DATOS CORRECTOS')\n",
    "plt.ylabel('latitud')  # nombra el eje x\n",
    "plt.xlabel('longitud')  # nombra el eje y\n",
    "plt.title('DATOS CORREGIDOS')\n",
    "plt.legend()\n",
    "plt.show()"
   ]
  },
  {
   "cell_type": "code",
   "execution_count": 18,
   "metadata": {},
   "outputs": [
    {
     "ename": "IndexError",
     "evalue": "list index out of range",
     "output_type": "error",
     "traceback": [
      "\u001b[0;31m---------------------------------------------------------------------------\u001b[0m",
      "\u001b[0;31mIndexError\u001b[0m                                Traceback (most recent call last)",
      "\u001b[0;32m<ipython-input-18-a2832a9f3dac>\u001b[0m in \u001b[0;36m<module>\u001b[0;34m\u001b[0m\n\u001b[0;32m----> 1\u001b[0;31m \u001b[0mprint\u001b[0m \u001b[0;34m(\u001b[0m\u001b[0mX_3\u001b[0m\u001b[0;34m[\u001b[0m\u001b[0;36m4\u001b[0m\u001b[0;34m]\u001b[0m\u001b[0;34m,\u001b[0m\u001b[0mY_3\u001b[0m\u001b[0;34m[\u001b[0m\u001b[0;36m4\u001b[0m\u001b[0;34m]\u001b[0m\u001b[0;34m,\u001b[0m\u001b[0mX_1\u001b[0m\u001b[0;34m[\u001b[0m\u001b[0;36m4\u001b[0m\u001b[0;34m]\u001b[0m\u001b[0;34m,\u001b[0m\u001b[0mY_1\u001b[0m\u001b[0;34m[\u001b[0m\u001b[0;36m4\u001b[0m\u001b[0;34m]\u001b[0m\u001b[0;34m,\u001b[0m\u001b[0mm\u001b[0m\u001b[0;34m[\u001b[0m\u001b[0;36m4\u001b[0m\u001b[0;34m]\u001b[0m\u001b[0;34m)\u001b[0m\u001b[0;34m\u001b[0m\u001b[0;34m\u001b[0m\u001b[0m\n\u001b[0m",
      "\u001b[0;31mIndexError\u001b[0m: list index out of range"
     ]
    }
   ],
   "source": [
    "print (X_3[4],Y_3[4],X_1[4],Y_1[4],m[4])"
   ]
  },
  {
   "cell_type": "code",
   "execution_count": null,
   "metadata": {},
   "outputs": [],
   "source": []
  },
  {
   "cell_type": "code",
   "execution_count": null,
   "metadata": {},
   "outputs": [],
   "source": []
  },
  {
   "cell_type": "code",
   "execution_count": null,
   "metadata": {},
   "outputs": [],
   "source": []
  },
  {
   "cell_type": "code",
   "execution_count": null,
   "metadata": {},
   "outputs": [],
   "source": []
  }
 ],
 "metadata": {
  "kernelspec": {
   "display_name": "Python 3",
   "language": "python",
   "name": "python3"
  }
 },
 "nbformat": 4,
 "nbformat_minor": 4
}
